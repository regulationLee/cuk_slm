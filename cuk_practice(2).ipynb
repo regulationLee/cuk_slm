{
 "cells": [
  {
   "metadata": {},
   "cell_type": "code",
   "outputs": [],
   "execution_count": null,
   "source": "!pip install ollama",
   "id": "9c32954f97dfe976"
  },
  {
   "metadata": {
    "collapsed": true
   },
   "cell_type": "code",
   "outputs": [],
   "execution_count": null,
   "source": "import ollama",
   "id": "initial_id"
  },
  {
   "metadata": {},
   "cell_type": "code",
   "source": "!ollama list",
   "id": "bf7394dd4e0dfa2d",
   "outputs": [],
   "execution_count": null
  },
  {
   "metadata": {},
   "cell_type": "code",
   "source": "!ollama pull llama3.2:1b",
   "id": "813f6f448762208e",
   "outputs": [],
   "execution_count": null
  },
  {
   "metadata": {},
   "cell_type": "code",
   "source": "!ollama list",
   "id": "7793a56a847ad180",
   "outputs": [],
   "execution_count": null
  },
  {
   "metadata": {},
   "cell_type": "code",
   "source": "!ollama --version",
   "id": "3a78723483552aff",
   "outputs": [],
   "execution_count": null
  },
  {
   "metadata": {},
   "cell_type": "code",
   "source": [
    "messages = [\n",
    "    {\"role\": \"system\", \"content\": \"You are a pirate chatbot who always responds in pirate speak!\"},\n",
    "    {\"role\": \"user\", \"content\": \"Who are you?\"},\n",
    "]"
   ],
   "id": "4e6ad7291e7069a2",
   "outputs": [],
   "execution_count": null
  },
  {
   "metadata": {
    "ExecuteTime": {
     "end_time": "2024-11-22T09:54:46.454248Z",
     "start_time": "2024-11-22T09:54:46.450439Z"
    }
   },
   "cell_type": "code",
   "source": [
    "model_name = 'llama3.2:1b'\n",
    "result_stream = ollama.chat(\n",
    "      model=model_name,\n",
    "      messages=messages,\n",
    "      stream=True\n",
    "    )"
   ],
   "id": "15cebae8a992b3c2",
   "outputs": [],
   "execution_count": 10
  },
  {
   "metadata": {},
   "cell_type": "code",
   "source": [
    "for chunk in result_stream:\n",
    "    content = chunk['message']['content']\n",
    "    print(chunk['message']['content'], end='', flush=True)\n",
    "print('\\n')"
   ],
   "id": "5ec1dcddb9252e9d",
   "outputs": [],
   "execution_count": null
  }
 ],
 "metadata": {
  "kernelspec": {
   "display_name": "Python 3",
   "language": "python",
   "name": "python3"
  },
  "language_info": {
   "codemirror_mode": {
    "name": "ipython",
    "version": 2
   },
   "file_extension": ".py",
   "mimetype": "text/x-python",
   "name": "python",
   "nbconvert_exporter": "python",
   "pygments_lexer": "ipython2",
   "version": "2.7.6"
  }
 },
 "nbformat": 4,
 "nbformat_minor": 5
}

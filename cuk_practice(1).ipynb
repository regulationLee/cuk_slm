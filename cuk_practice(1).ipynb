{
 "cells": [
  {
   "metadata": {},
   "cell_type": "code",
   "source": "!pip install transformers evaluate accelerate torch huggingface_hub",
   "id": "2f1777354b897db2",
   "outputs": [],
   "execution_count": null
  },
  {
   "metadata": {},
   "cell_type": "code",
   "source": [
    "import torch\n",
    "from transformers import pipeline, AutoModelForCausalLM, AutoTokenizer \n",
    "import huggingface_hub"
   ],
   "id": "5f783a39b586f874",
   "outputs": [],
   "execution_count": null
  },
  {
   "metadata": {},
   "cell_type": "code",
   "source": "huggingface_hub.login()",
   "id": "2d11ae3b85eb8467",
   "outputs": [],
   "execution_count": null
  },
  {
   "metadata": {},
   "cell_type": "code",
   "source": [
    "# model_id = \"meta-llama/Llama-3.2-1B-Instruct\"\n",
    "model_id = \"Qwen/Qwen2.5-1.5B-Instruct\""
   ],
   "id": "af836f8e45075e60",
   "outputs": [],
   "execution_count": null
  },
  {
   "metadata": {},
   "cell_type": "code",
   "source": [
    "tokenizer = AutoTokenizer.from_pretrained(model_id, use_fast=False)\n",
    "\n",
    "pipe = pipeline(\n",
    "    \"text-generation\",\n",
    "    model=model_id,\n",
    "    tokenizer=tokenizer,\n",
    "    pad_token_id=tokenizer.eos_token_id,\n",
    "    torch_dtype=torch.bfloat16,\n",
    "    device=\"mps\",\n",
    ")\n",
    "\n",
    "messages = [\n",
    "    {\"role\": \"system\", \"content\": \"너는 사이버대학교의 진학상담 챗봇이다. 항상 한글로 상담사 처럼 대답해\"},\n",
    "    {\"role\": \"user\", \"content\": \"너는 누구니?\"},\n",
    "]\n",
    "\n",
    "outputs = pipe(\n",
    "    messages,\n",
    "    max_new_tokens=256,\n",
    ")\n",
    "\n",
    "print(outputs[0][\"generated_text\"][-1]['content'])"
   ],
   "id": "b7998c1823f26fb",
   "outputs": [],
   "execution_count": null
  },
  {
   "metadata": {},
   "cell_type": "code",
   "source": "outputs",
   "id": "83ab07f5b130c929",
   "outputs": [],
   "execution_count": null
  },
  {
   "metadata": {},
   "cell_type": "code",
   "source": [
    "chat = outputs[0][\"generated_text\"]\n",
    "chat.append({\"role\": \"user\", \"content\": \"인공지능 분야 대학원 진학을 하고 싶은데 전망은 어때?\"})\n",
    "outputs = pipe(\n",
    "    chat,\n",
    "    max_new_tokens=256,\n",
    ")\n",
    "print(outputs[0][\"generated_text\"][-1]['content'])"
   ],
   "id": "d19382d162f45f35",
   "outputs": [],
   "execution_count": null
  },
  {
   "metadata": {},
   "cell_type": "code",
   "source": [
    "tokenizer = AutoTokenizer.from_pretrained(model_id, use_fast=False)\n",
    "model = AutoModelForCausalLM.from_pretrained(model_id, trust_remote_code=True)\n",
    "\n",
    "messages = [\n",
    "    {\"role\": \"system\", \"content\": \"너는 사이버대학교의 진학상담 챗봇이다. 항상 한글로 상담사 처럼 대답해\"},\n",
    "    {\"role\": \"user\", \"content\": \"너는 누구니?\"},\n",
    "]\n",
    "messages_chat = tokenizer.apply_chat_template(messages, tokenize=False, add_generation_prompt=True)"
   ],
   "id": "f5429f4e16dfa75f",
   "outputs": [],
   "execution_count": null
  },
  {
   "metadata": {},
   "cell_type": "code",
   "source": "messages_chat",
   "id": "999df94effc68c10",
   "outputs": [],
   "execution_count": null
  },
  {
   "metadata": {},
   "cell_type": "code",
   "source": [
    "inputs = tokenizer(messages_chat, return_tensors=\"pt\", add_special_tokens=False)\n",
    "inputs = {key: tensor.to(\"mps\") for key, tensor in inputs.items()}\n",
    "model.to(\"mps\")"
   ],
   "id": "734f9d9a53ce2cc",
   "outputs": [],
   "execution_count": null
  },
  {
   "metadata": {},
   "cell_type": "code",
   "source": "inputs",
   "id": "9a135fbf88374655",
   "outputs": [],
   "execution_count": null
  },
  {
   "metadata": {},
   "cell_type": "code",
   "source": [
    "generation_config = {\n",
    "            \"max_new_tokens\": 100,\n",
    "            \"num_beams\": 4,\n",
    "            \"no_repeat_ngram_size\": 2,\n",
    "            \"early_stopping\": True,\n",
    "            \"do_sample\": True,\n",
    "            \"temperature\": 0.7,\n",
    "            \"pad_token_id\": tokenizer.eos_token_id\n",
    "        }\n",
    "\n",
    "outputs = model.generate(**inputs,  **generation_config)\n",
    "decoded_output = tokenizer.decode(outputs[0][inputs['input_ids'].size(1):], skip_special_tokens=True)\n",
    "print(\"Decoded output:\\n\", decoded_output)"
   ],
   "id": "930ba73c4d0d5c3f",
   "outputs": [],
   "execution_count": null
  },
  {
   "metadata": {},
   "cell_type": "code",
   "source": "outputs[0]",
   "id": "8317c3155d088147",
   "outputs": [],
   "execution_count": null
  },
  {
   "metadata": {},
   "cell_type": "code",
   "source": "inputs['input_ids'].size(1)",
   "id": "5ef25c982516e5e2",
   "outputs": [],
   "execution_count": null
  },
  {
   "metadata": {},
   "cell_type": "code",
   "source": "outputs[0][inputs['input_ids'].size(1):].size()",
   "id": "6a42603dc18cd1c2",
   "outputs": [],
   "execution_count": null
  }
 ],
 "metadata": {
  "kernelspec": {
   "display_name": "Python 3",
   "language": "python",
   "name": "python3"
  },
  "language_info": {
   "codemirror_mode": {
    "name": "ipython",
    "version": 2
   },
   "file_extension": ".py",
   "mimetype": "text/x-python",
   "name": "python",
   "nbconvert_exporter": "python",
   "pygments_lexer": "ipython2",
   "version": "2.7.6"
  }
 },
 "nbformat": 4,
 "nbformat_minor": 5
}

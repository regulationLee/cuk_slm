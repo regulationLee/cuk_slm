{
 "cells": [
  {
   "metadata": {},
   "cell_type": "code",
   "source": "!pip install transformers evaluate accelerate torch huggingface_hub",
   "id": "2f1777354b897db2",
   "outputs": [],
   "execution_count": null
  },
  {
   "metadata": {
    "ExecuteTime": {
     "end_time": "2024-11-22T13:32:02.279938Z",
     "start_time": "2024-11-22T13:31:59.573104Z"
    }
   },
   "cell_type": "code",
   "source": [
    "import torch\n",
    "from transformers import pipeline, AutoModelForCausalLM, AutoTokenizer \n",
    "import huggingface_hub\n"
   ],
   "id": "5f783a39b586f874",
   "outputs": [],
   "execution_count": 1
  },
  {
   "metadata": {},
   "cell_type": "code",
   "source": "huggingface_hub.login() #회원가입 > Setting 클릭 > Assess Tokens 클릭 > New Tokens 클릭",
   "id": "2d11ae3b85eb8467",
   "outputs": [],
   "execution_count": null
  },
  {
   "metadata": {
    "ExecuteTime": {
     "end_time": "2024-11-22T13:35:27.102435Z",
     "start_time": "2024-11-22T13:35:27.090608Z"
    }
   },
   "cell_type": "code",
   "source": [
    "# model_id = \"meta-llama/Llama-3.2-1B-Instruct\"\n",
    "model_id = \"Qwen/Qwen2.5-1.5B-Instruct\""
   ],
   "id": "af836f8e45075e60",
   "outputs": [],
   "execution_count": 7
  },
  {
   "metadata": {},
   "cell_type": "code",
   "source": [
    "tokenizer = AutoTokenizer.from_pretrained(model_id, use_fast=False)\n",
    "\n",
    "pipe = pipeline(\n",
    "    \"text-generation\",\n",
    "    model=model_id,\n",
    "    tokenizer=tokenizer,\n",
    "    pad_token_id=tokenizer.eos_token_id,\n",
    "    torch_dtype=torch.bfloat16,\n",
    "    device=\"mps\",\n",
    ")\n",
    "\n",
    "messages = [\n",
    "    {\"role\": \"system\", \"content\": \"너는 사이버대학교의 진학상담 챗봇이다. 항상 한글로 상담사 처럼 대답해\"},\n",
    "    {\"role\": \"user\", \"content\": \"너는 누구니?\"},\n",
    "]\n",
    "\n",
    "outputs = pipe(\n",
    "    messages,\n",
    "    max_new_tokens=256,\n",
    ")\n",
    "\n",
    "print(outputs[0][\"generated_text\"][-1]['content'])"
   ],
   "id": "b7998c1823f26fb",
   "outputs": [],
   "execution_count": null
  },
  {
   "metadata": {},
   "cell_type": "code",
   "source": "outputs",
   "id": "83ab07f5b130c929",
   "outputs": [],
   "execution_count": null
  },
  {
   "metadata": {},
   "cell_type": "code",
   "source": [
    "chat = outputs[0][\"generated_text\"]\n",
    "chat.append({\"role\": \"user\", \"content\": \"인공지능 분야 대학원 진학을 하고 싶은데 전망은 어때?\"})\n",
    "outputs = pipe(\n",
    "    chat,\n",
    "    max_new_tokens=256,\n",
    ")\n",
    "print(outputs[0][\"generated_text\"][-1]['content'])"
   ],
   "id": "d19382d162f45f35",
   "outputs": [],
   "execution_count": null
  },
  {
   "metadata": {
    "ExecuteTime": {
     "end_time": "2024-11-22T13:35:45.248253Z",
     "start_time": "2024-11-22T13:35:31.122342Z"
    }
   },
   "cell_type": "code",
   "source": [
    "tokenizer = AutoTokenizer.from_pretrained(model_id, use_fast=False)\n",
    "model = AutoModelForCausalLM.from_pretrained(model_id, trust_remote_code=True)\n",
    "\n",
    "tokenizer.save_pretrained(\"tokenizer_sample\")"
   ],
   "id": "f5429f4e16dfa75f",
   "outputs": [
    {
     "data": {
      "text/plain": [
       "('tokenizer_sample/tokenizer_config.json',\n",
       " 'tokenizer_sample/special_tokens_map.json',\n",
       " 'tokenizer_sample/tokenizer.json')"
      ]
     },
     "execution_count": 8,
     "metadata": {},
     "output_type": "execute_result"
    }
   ],
   "execution_count": 8
  },
  {
   "metadata": {
    "ExecuteTime": {
     "end_time": "2024-11-22T13:37:13.003729Z",
     "start_time": "2024-11-22T13:37:12.982173Z"
    }
   },
   "cell_type": "code",
   "source": [
    "sequence = \"너는 사이버대학교의 진학상담 챗봇이다. 항상 한글로 상담사 처럼 대답해\"\n",
    "tokens = tokenizer.tokenize(sequence)\n",
    "\n",
    "print(tokens)"
   ],
   "id": "949aa573b793a449",
   "outputs": [
    {
     "name": "stdout",
     "output_type": "stream",
     "text": [
      "['Hello', 'ĠI', 'Ġlove', 'Ġyou']\n"
     ]
    }
   ],
   "execution_count": 12
  },
  {
   "metadata": {
    "ExecuteTime": {
     "end_time": "2024-11-22T13:33:26.183083Z",
     "start_time": "2024-11-22T13:33:26.176160Z"
    }
   },
   "cell_type": "code",
   "source": [
    "ids = tokenizer.convert_tokens_to_ids(tokens)\n",
    "\n",
    "print(ids)"
   ],
   "id": "46ff3bd3afa63329",
   "outputs": [
    {
     "name": "stdout",
     "output_type": "stream",
     "text": [
      "[127085, 16560, 136541, 79004, 142166, 20401, 126616, 124632, 140267, 3315, 109, 245, 144415, 125489, 13, 142655, 61298, 83291, 17380, 58034, 125786, 55054, 71647, 125894, 60960, 132760, 33883]\n"
     ]
    }
   ],
   "execution_count": 6
  },
  {
   "metadata": {},
   "cell_type": "code",
   "outputs": [],
   "execution_count": null,
   "source": [
    "messages = [\n",
    "    {\"role\": \"system\", \"content\": \"너는 사이버대학교의 진학상담 챗봇이다. 항상 한글로 상담사 처럼 대답해\"},\n",
    "    {\"role\": \"user\", \"content\": \"너는 누구니?\"},\n",
    "]\n",
    "messages_chat = tokenizer.apply_chat_template(messages, tokenize=False, add_generation_prompt=True)"
   ],
   "id": "a495032cf65fe2ee"
  },
  {
   "metadata": {},
   "cell_type": "code",
   "source": "messages_chat",
   "id": "999df94effc68c10",
   "outputs": [],
   "execution_count": null
  },
  {
   "metadata": {},
   "cell_type": "code",
   "source": [
    "inputs = tokenizer(messages_chat, return_tensors=\"pt\", add_special_tokens=False)\n",
    "inputs = {key: tensor.to(\"mps\") for key, tensor in inputs.items()}\n",
    "model.to(\"mps\")"
   ],
   "id": "734f9d9a53ce2cc",
   "outputs": [],
   "execution_count": null
  },
  {
   "metadata": {},
   "cell_type": "code",
   "source": "inputs",
   "id": "9a135fbf88374655",
   "outputs": [],
   "execution_count": null
  },
  {
   "metadata": {},
   "cell_type": "code",
   "source": [
    "generation_config = {\n",
    "            \"max_new_tokens\": 100,\n",
    "            \"num_beams\": 4,\n",
    "            \"no_repeat_ngram_size\": 2,\n",
    "            \"early_stopping\": True,\n",
    "            \"do_sample\": True,\n",
    "            \"temperature\": 0.7,\n",
    "            \"pad_token_id\": tokenizer.eos_token_id\n",
    "        }\n",
    "\n",
    "outputs = model.generate(**inputs,  **generation_config)\n",
    "decoded_output = tokenizer.decode(outputs[0][inputs['input_ids'].size(1):], skip_special_tokens=True)\n",
    "print(\"Decoded output:\\n\", decoded_output)"
   ],
   "id": "930ba73c4d0d5c3f",
   "outputs": [],
   "execution_count": null
  },
  {
   "metadata": {},
   "cell_type": "code",
   "source": "outputs[0]",
   "id": "8317c3155d088147",
   "outputs": [],
   "execution_count": null
  },
  {
   "metadata": {},
   "cell_type": "code",
   "source": "inputs['input_ids'].size(1)",
   "id": "5ef25c982516e5e2",
   "outputs": [],
   "execution_count": null
  },
  {
   "metadata": {},
   "cell_type": "code",
   "source": "outputs[0][inputs['input_ids'].size(1):].size()",
   "id": "6a42603dc18cd1c2",
   "outputs": [],
   "execution_count": null
  }
 ],
 "metadata": {
  "kernelspec": {
   "display_name": "Python 3",
   "language": "python",
   "name": "python3"
  },
  "language_info": {
   "codemirror_mode": {
    "name": "ipython",
    "version": 2
   },
   "file_extension": ".py",
   "mimetype": "text/x-python",
   "name": "python",
   "nbconvert_exporter": "python",
   "pygments_lexer": "ipython2",
   "version": "2.7.6"
  }
 },
 "nbformat": 4,
 "nbformat_minor": 5
}

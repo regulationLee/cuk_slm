{
 "cells": [
  {
   "metadata": {},
   "cell_type": "code",
   "source": [
    "from re import split\n",
    "!pip install langchain_community langchain_huggingface sentence_transformers pdfplumber"
   ],
   "id": "caf6c75f03d8f3ea",
   "outputs": [],
   "execution_count": null
  },
  {
   "metadata": {
    "collapsed": true
   },
   "cell_type": "code",
   "source": [
    "import pdfplumber\n",
    "from collections import defaultdict\n",
    "import itertools\n",
    "import re\n",
    "import os\n",
    "import pandas as pd\n",
    "from langchain_core.documents import Document\n",
    "from langchain.document_loaders import PyPDFLoader\n",
    "from langchain.text_splitter import RecursiveCharacterTextSplitter\n"
   ],
   "id": "initial_id",
   "outputs": [],
   "execution_count": null
  },
  {
   "metadata": {},
   "cell_type": "code",
   "source": "record_file = 'rag_example.pdf'",
   "id": "7e0881d67b6be76f",
   "outputs": [],
   "execution_count": null
  },
  {
   "metadata": {},
   "cell_type": "code",
   "source": [
    "loader = PyPDFLoader(record_file)\n",
    "documents = loader.load()\n",
    "filtered_doc = documents[1:3]"
   ],
   "id": "841e45f76f671de6",
   "outputs": [],
   "execution_count": null
  },
  {
   "metadata": {},
   "cell_type": "code",
   "source": "filtered_doc",
   "id": "1eb21e3917dc1477",
   "outputs": [],
   "execution_count": null
  },
  {
   "metadata": {},
   "cell_type": "code",
   "source": [
    "text_splitter = RecursiveCharacterTextSplitter(chunk_size=100, chunk_overlap=20)\n",
    "chunking_data = text_splitter.split_documents(filtered_doc)"
   ],
   "id": "6d0ac05c750ab92d",
   "outputs": [],
   "execution_count": null
  },
  {
   "metadata": {},
   "cell_type": "code",
   "source": "chunking_data",
   "id": "a651c1b27a5c171a",
   "outputs": [],
   "execution_count": null
  },
  {
   "metadata": {},
   "cell_type": "code",
   "source": [
    "tables = []\n",
    "with pdfplumber.open(record_file) as pdf:\n",
    "    for page in pdf.pages:\n",
    "        table = page.extract_table()\n",
    "        if table:\n",
    "            df = pd.DataFrame(table[1:], columns=table[0])\n",
    "            tables.append(df)"
   ],
   "id": "9cedf668a9895083",
   "outputs": [],
   "execution_count": null
  },
  {
   "metadata": {},
   "cell_type": "code",
   "source": "len(tables)",
   "id": "fa441a7e4f26aa80",
   "outputs": [],
   "execution_count": null
  },
  {
   "metadata": {},
   "cell_type": "code",
   "source": "tables[0]",
   "id": "f09acc99eabd4d8d",
   "outputs": [],
   "execution_count": null
  },
  {
   "metadata": {},
   "cell_type": "code",
   "source": [
    "filtered_tables = tables[7:21]\n",
    "text_dict = defaultdict()\n",
    "text = \"\""
   ],
   "id": "58a8b9ceea13dad8",
   "outputs": [],
   "execution_count": null
  },
  {
   "metadata": {},
   "cell_type": "code",
   "source": [
    "for i, table in enumerate(filtered_tables):\n",
    "    if isinstance(table, pd.DataFrame):\n",
    "        table = table.ffill() # 데이터 채우기(이전 행의 값 그대로 사용)\n",
    "        table = table.apply(lambda x: table.columns + \":\" + x.astype(str), axis=1)\n",
    "        tmp_text = table.to_csv(index=False, header=False)\n",
    "        tmp_text = re.sub(r'\\n\"보 장', 'TEMP_REPLACE', tmp_text)\n",
    "        tmp_text = re.sub(r'\\n보 장', 'TEMP_2REPLACE', tmp_text)\n",
    "        tmp_text = re.sub(r'\\n', ' ', tmp_text)\n",
    "        tmp_text = re.sub(r'TEMP_REPLACE', '\\n\"보 장', tmp_text)\n",
    "        tmp_text = re.sub(r'TEMP_2REPLACE', '\\n\"보 장', tmp_text)\n",
    "        text_dict[i] = tmp_text.split(\"\\n\")\n",
    "        text += tmp_text"
   ],
   "id": "62c7f2ba54899728",
   "outputs": [],
   "execution_count": null
  },
  {
   "metadata": {},
   "cell_type": "code",
   "source": "text_list = list(itertools.chain(*text_dict.values()))",
   "id": "70e08a4a46a58ba2",
   "outputs": [],
   "execution_count": null
  },
  {
   "metadata": {},
   "cell_type": "code",
   "source": "chunking_data = [Document(page_content=page, metadata=dict(page=i)) for i, page in enumerate(text_list)]",
   "id": "653ee81718988562",
   "outputs": [],
   "execution_count": null
  }
 ],
 "metadata": {
  "kernelspec": {
   "display_name": "Python 3",
   "language": "python",
   "name": "python3"
  },
  "language_info": {
   "codemirror_mode": {
    "name": "ipython",
    "version": 2
   },
   "file_extension": ".py",
   "mimetype": "text/x-python",
   "name": "python",
   "nbconvert_exporter": "python",
   "pygments_lexer": "ipython2",
   "version": "2.7.6"
  }
 },
 "nbformat": 4,
 "nbformat_minor": 5
}

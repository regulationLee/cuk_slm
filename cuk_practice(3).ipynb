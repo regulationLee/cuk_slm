{
 "cells": [
  {
   "metadata": {},
   "cell_type": "code",
   "source": "!pip install diffusers",
   "id": "6bd8f240f40f5e35",
   "outputs": [],
   "execution_count": null
  },
  {
   "metadata": {
    "collapsed": true
   },
   "cell_type": "code",
   "source": [
    "# ref: https://huggingface.co/docs/diffusers/main/en/using-diffusers/inpaint#stable-diffusion-inpainting\n",
    "\n",
    "import os\n",
    "import platform\n",
    "\n",
    "import torch\n",
    "from diffusers import AutoPipelineForInpainting\n",
    "from diffusers.utils import load_image, make_image_grid"
   ],
   "id": "initial_id",
   "outputs": [],
   "execution_count": null
  },
  {
   "metadata": {
    "jupyter": {
     "is_executing": true
    }
   },
   "cell_type": "code",
   "source": [
    "pipeline = AutoPipelineForInpainting.from_pretrained(\n",
    "    \"runwayml/stable-diffusion-inpainting\", torch_dtype=torch.float16, variant=\"fp16\"\n",
    ")\n",
    "\n",
    "if not platform.system() == 'Linux':\n",
    "    if torch.backends.mps.is_available():\n",
    "        pipeline.enable_model_cpu_offload(device=torch.device(\"cpu\"))\n",
    "else:\n",
    "    pipeline.enable_model_cpu_offload()\n",
    "    pipeline.enable_xformers_memory_efficient_attention()\n",
    "\n",
    "init_image = load_image(\"https://huggingface.co/datasets/huggingface/documentation-images/resolve/main/diffusers/inpaint.png\")\n",
    "mask_image = load_image(\"https://huggingface.co/datasets/huggingface/documentation-images/resolve/main/diffusers/inpaint_mask.png\")\n",
    "\n",
    "if not platform.system() == 'Linux':\n",
    "    if torch.backends.mps.is_available():\n",
    "        generator = torch.Generator(\"cpu\").manual_seed(92)\n",
    "else:\n",
    "    generator = torch.Generator(\"cuda\").manual_seed(92)\n",
    "\n",
    "prompt = \"concept art digital painting of an elven castle, inspired by lord of the rings, highly detailed, 8k\"\n",
    "image = pipeline(\n",
    "    prompt=prompt,\n",
    "    image=init_image,\n",
    "    mask_image=mask_image,\n",
    "    generator=generator\n",
    ").images[0]\n",
    "\n",
    "result_img = make_image_grid([init_image, mask_image, image], rows=1, cols=3, resize=512)\n",
    "\n",
    "result_img.save('demo_result.png')"
   ],
   "id": "62b1e078e952f30c",
   "outputs": [],
   "execution_count": null
  }
 ],
 "metadata": {
  "kernelspec": {
   "display_name": "Python 3",
   "language": "python",
   "name": "python3"
  },
  "language_info": {
   "codemirror_mode": {
    "name": "ipython",
    "version": 2
   },
   "file_extension": ".py",
   "mimetype": "text/x-python",
   "name": "python",
   "nbconvert_exporter": "python",
   "pygments_lexer": "ipython2",
   "version": "2.7.6"
  }
 },
 "nbformat": 4,
 "nbformat_minor": 5
}

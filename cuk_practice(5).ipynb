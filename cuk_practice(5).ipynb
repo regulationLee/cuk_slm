{
 "cells": [
  {
   "metadata": {},
   "cell_type": "code",
   "source": "!pip install langchain_community langchain_huggingface sentence_transformers",
   "id": "342974c1d09e93a8",
   "outputs": [],
   "execution_count": null
  },
  {
   "metadata": {
    "collapsed": true
   },
   "cell_type": "code",
   "source": [
    "from langchain_community.vectorstores import FAISS\n",
    "from langchain_huggingface import HuggingFaceEmbeddings\n",
    "from sentence_transformers import SentenceTransformer\n",
    "\n",
    "import os\n",
    "from tqdm import tqdm\n",
    "import ollama\n",
    "import pandas as pd\n",
    "import pdfplumber\n",
    "from collections import defaultdict\n",
    "import itertools\n",
    "import re\n",
    "from langchain_core.documents import Document\n",
    "from langchain.document_loaders import PyPDFLoader\n",
    "from langchain.text_splitter import RecursiveCharacterTextSplitter"
   ],
   "id": "initial_id",
   "outputs": [],
   "execution_count": null
  },
  {
   "metadata": {},
   "cell_type": "code",
   "source": [
    "model_name = \"BAAI/bge-m3\"\n",
    "if not os.path.exists(model_name):\n",
    "    model = SentenceTransformer(model_name)\n",
    "    model.save(model_name)"
   ],
   "id": "beaa026366bd985",
   "outputs": [],
   "execution_count": null
  },
  {
   "metadata": {},
   "cell_type": "code",
   "source": [
    "embeddings = HuggingFaceEmbeddings(\n",
    "        model_name=model_name,\n",
    "        model_kwargs={'device': \"mps\"},\n",
    "        encode_kwargs={'normalize_embeddings': True},\n",
    "    )"
   ],
   "id": "6937943ca3e49316",
   "outputs": [],
   "execution_count": null
  },
  {
   "metadata": {},
   "cell_type": "code",
   "source": [
    "emb_vectors = embeddings.embed_documents([\n",
    "    \"안녕하세요.\",\n",
    "    \"반갑습니다.\",\n",
    "    \"감사합니다.\",\n",
    "])\n",
    "print(emb_vectors[0][:4])\n",
    "print(emb_vectors[1][:4])\n",
    "print(emb_vectors[2][:4])"
   ],
   "id": "f640118643d9c09a",
   "outputs": [],
   "execution_count": null
  },
  {
   "metadata": {},
   "cell_type": "code",
   "source": "len(emb_vectors[0])",
   "id": "a46beec6f3491100",
   "outputs": [],
   "execution_count": null
  },
  {
   "metadata": {},
   "cell_type": "code",
   "source": "chunking_data = \"\"",
   "id": "9ac075861201d92f",
   "outputs": [],
   "execution_count": null
  },
  {
   "metadata": {},
   "cell_type": "code",
   "source": "",
   "id": "89efbc2276a4def9",
   "outputs": [],
   "execution_count": null
  },
  {
   "metadata": {},
   "cell_type": "code",
   "source": "vector_store = FAISS.from_documents(chunking_data, embeddings)",
   "id": "f0337c2cf9bd2fbd",
   "outputs": [],
   "execution_count": null
  },
  {
   "metadata": {},
   "cell_type": "code",
   "source": "diagnosis_str = \"\"",
   "id": "b6bb9470afceab7e",
   "outputs": [],
   "execution_count": null
  },
  {
   "metadata": {},
   "cell_type": "code",
   "source": [
    "medical_info = defaultdict(list)\n",
    "medical_info[\"hospital_1\"] = (\n",
    "    '질병 또는 부상명: (S52590) 요골 하단의 상세불명 골절, 폐쇄성, '\n",
    "    '(S62630) 기타 손가락의 중지골 골절, 폐쇄성, '\n",
    "    '(S836) 무릎의 기타 및 상세불명 부분의 염좌 및 긴장, '\n",
    "    '(M2416) 기타 관절연골장애, 무릎관절, '\n",
    "    '(M2406) 관절안의 유리체 무릎관절, '\n",
    "    '(M6586) 기타 윤활막염 및 힘줄윤활막염 무릎관절. '\n",
    "    '\\n치료기간: 입원 2022년 11월 26일부터 2022년 12월 24일까지(29 일간). '\n",
    "    '\\n소견서 내용: 상기환자는 2022/11/1 넘어져 수상후 타병원 진료후 내원하신 환자로 '\n",
    "    '우측 요골부, 우측 제4 수지부의 골절 진단과 우측 무릎의 통증으로 '\n",
    "    '안정가료 및 통증완화에 대한 치료를 위하여 상기 기간 동안 입원치료하였으며 '\n",
    "    '추후 우측 손목, 무릎의 지속적인 관찰 및 재활치료가 필요 할 것으로 사료됨. '\n",
    "    '\\n의료기관 명칭: 사각 종합병원\\n\\n'\n",
    ")\n",
    "\n",
    "medical_info[\"hospital_2\"] = (\n",
    "    '질병 또는 부상명: (M2416) 기타 관절연골장애 아래다리, '\n",
    "    '(M2406) 관절안의 유리체, 아래다리, '\n",
    "    '(M6586) 기타 윤활막염 및 힘줄윤활막염 아래다리, '\n",
    "    '(M170) 앙쪽 원발성 무릎관절증, '\n",
    "    '(S52590) 요골 하단의 상세불명 골절, 폐쇄성, ' \n",
    "    '(S62630) 기타 손가락의 중지골 골절, 폐쇄성. '\n",
    "    '\\n치료기간: 입원 2022년 12월 24일부터 2023년 01월 10일까지(18 일간). '\n",
    "    '\\n소견서 내용: 상기환자 양측 무릎과 우측 손목, 우측 네번째 손가락 통증으로 입원한 환자로 '\n",
    "    '이학적 검사 및 단순 방사선 검사상 상기 병명으로 진단되었으며 '\n",
    "    'VAS 7의 무릎 통중과 우측 손목 손가락 골절로 인한 ROM 제한으로 증상 호전시끼지 '\n",
    "    '물리치료, 도수치료, 체외 충격파 치료 등 보존적 치료가 필요할 것으로 판단됨 '\n",
    "    '상기 소견은 초진 소견이며, 추후 경과에 따라 재평가 요함.'\n",
    "    '\\n구두소견: 사각 병원에서 치료 후에 전원 온 환자로 입원 경위에 대해서는, '\n",
    "    '골절, 관절 내 유리체, 퇴행성 관절염, 강직 등 단순 통증으로 내원한 것 외에는, '\n",
    "    '더 이상 드릴 답변 없음. '\n",
    "    '필요시 더 입원을 할 수도 있는 환자이고 심평원 적정 의료 기준에 따라 퇴원시킨 것으로, '\n",
    "    '적정입원기간을 명확하게 산정하기 어려움.'\n",
    "    '\\n의료기관 명칭: 서울 창업허브 종합병원\\n\\n'\n",
    ")\n",
    "\n",
    "medical_info[\"interview_1\"] = (\n",
    "    '고객 안내일자: 2023-02-08.'\n",
    "    '\\n고객 안내내용: 현장심사 안내.'\n",
    "    '\\n고객 반응: 문답서 작성과 면담을 거부함.'\n",
    ")\n",
    "\n",
    "medical_info[\"interview_2\"] = (\n",
    "    '고객 안내일자: 2023-03-17.'\n",
    "    '\\n고객 안내내용: 최초 내원경위로 2022.11.1에 넘어지고 나서, '\n",
    "    '요골 하단의 상세불명 골절, 폐쇄성 진단으로 주병명이 확인되어, '\n",
    "    '재해로 검토되어질 수 있음을 안내.'\n",
    "    '\\n고객 반응: 넘어져서 내원한 것은 맞으나, '\n",
    "    '어깨, 무릎 등은 원래부터 가지고 있는 질병으로 인해 입원치료를 받은 것이니, '\n",
    "    '질병으로 처리됨이 타당함.'\n",
    ")\n",
    "\n",
    "values_list = list(medical_info.values())\n",
    "result_string = ' '.join(values_list)"
   ],
   "id": "452a128a72699c56",
   "outputs": [],
   "execution_count": null
  },
  {
   "metadata": {},
   "cell_type": "code",
   "source": [
    "messages = [\n",
    "    {\"role\": \"system\", \"content\": \"너는 전문성이 매우 높은 수준의 손해사정보고서 작성 챗봇이야. 전문적인 용어로 답변해\"},\n",
    "    {\"role\": \"user\", \"content\": \"아래의 조사기록을 분석해서 손해사정보고서 작성\" + result_string},\n",
    "]\n",
    "\n",
    "result_stream = ollama.chat(\n",
    "      model=\"aya:8b\",\n",
    "      messages=messages,\n",
    "      stream=True\n",
    "    )"
   ],
   "id": "b0f8f5192b4b4258",
   "outputs": [],
   "execution_count": null
  },
  {
   "metadata": {},
   "cell_type": "code",
   "source": [
    "contents_output = ''\n",
    "for chunk in result_stream:\n",
    "    content = chunk['message']['content']\n",
    "    print(chunk['message']['content'], end='', flush=True)\n",
    "    contents_output += content\n",
    "print('\\n')"
   ],
   "id": "398350b070d42562",
   "outputs": [],
   "execution_count": null
  },
  {
   "metadata": {},
   "cell_type": "code",
   "source": "relevant_docs = vector_store.similarity_search(result_string, k=3)",
   "id": "a03bc744367d9cdd",
   "outputs": [],
   "execution_count": null
  },
  {
   "metadata": {},
   "cell_type": "code",
   "source": "insurance_context = \"\\n\".join(doc.page_content for doc in relevant_docs)",
   "id": "654144228c0ed4d0",
   "outputs": [],
   "execution_count": null
  },
  {
   "metadata": {},
   "cell_type": "code",
   "source": "insurance_context",
   "id": "d364af8800a4d0bc",
   "outputs": [],
   "execution_count": null
  },
  {
   "metadata": {},
   "cell_type": "code",
   "source": [
    "input_prompt = (\n",
    "        # f'Context: {insurance_context} \\n '\n",
    "        f'Question: 위의 데이터를 바탕으로 다음의 손해사정보고서에 기록된 질병 또는 부상에 대한 보험금 지급 여부 및 예상금액 판단 \\n'\n",
    "        # f' {contents_output}'\n",
    "    )"
   ],
   "id": "19eda89615a8e824",
   "outputs": [],
   "execution_count": null
  },
  {
   "metadata": {},
   "cell_type": "code",
   "source": [
    "messages = [\n",
    "    {\"role\": \"system\", \"content\": \"너는 전문성이 매우 높은 수준의 손해사정보고서 작성 챗봇이야. 전문적인 용어로 답변해\"},\n",
    "    {\"role\": \"user\", \"content\": \"아래의 조사기록을 분석해서 손해사정보고서 작성\" + result_string},\n",
    "    {\"role\": \"assistant\", \"content\": contents_output},\n",
    "    {\"role\": \"user\", \"content\": input_prompt},\n",
    "]"
   ],
   "id": "ac74be712b423a99",
   "outputs": [],
   "execution_count": null
  },
  {
   "metadata": {},
   "cell_type": "code",
   "source": [
    "result_stream = ollama.chat(\n",
    "      model=\"aya:8b\",\n",
    "      messages=messages,\n",
    "      stream=True\n",
    "    )\n",
    "\n",
    "for chunk in result_stream:\n",
    "    content = chunk['message']['content']\n",
    "    print(chunk['message']['content'], end='', flush=True)\n",
    "print('\\n')"
   ],
   "id": "f6007ebd81e43dbf",
   "outputs": [],
   "execution_count": null
  }
 ],
 "metadata": {
  "kernelspec": {
   "display_name": "Python 3",
   "language": "python",
   "name": "python3"
  },
  "language_info": {
   "codemirror_mode": {
    "name": "ipython",
    "version": 2
   },
   "file_extension": ".py",
   "mimetype": "text/x-python",
   "name": "python",
   "nbconvert_exporter": "python",
   "pygments_lexer": "ipython2",
   "version": "2.7.6"
  }
 },
 "nbformat": 4,
 "nbformat_minor": 5
}
